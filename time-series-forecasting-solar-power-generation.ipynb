{
 "cells": [
  {
   "cell_type": "code",
   "execution_count": 1,
   "id": "1e1619b7",
   "metadata": {
    "_cell_guid": "b1076dfc-b9ad-4769-8c92-a6c4dae69d19",
    "_uuid": "8f2839f25d086af736a60e9eeb907d3b93b6e0e5",
    "execution": {
     "iopub.execute_input": "2023-05-30T15:42:10.792857Z",
     "iopub.status.busy": "2023-05-30T15:42:10.792294Z",
     "iopub.status.idle": "2023-05-30T15:42:12.405306Z",
     "shell.execute_reply": "2023-05-30T15:42:12.404050Z"
    },
    "papermill": {
     "duration": 1.62744,
     "end_time": "2023-05-30T15:42:12.408256",
     "exception": false,
     "start_time": "2023-05-30T15:42:10.780816",
     "status": "completed"
    },
    "tags": []
   },
   "outputs": [
    {
     "name": "stdout",
     "output_type": "stream",
     "text": [
      "/kaggle/input/solar-power-generation-data/Plant_2_Generation_Data.csv\n",
      "/kaggle/input/solar-power-generation-data/Plant_2_Weather_Sensor_Data.csv\n",
      "/kaggle/input/solar-power-generation-data/Plant_1_Weather_Sensor_Data.csv\n",
      "/kaggle/input/solar-power-generation-data/Plant_1_Generation_Data.csv\n"
     ]
    }
   ],
   "source": [
    "# This Python 3 environment comes with many helpful analytics libraries installed\n",
    "# It is defined by the kaggle/python Docker image: https://github.com/kaggle/docker-python\n",
    "# For example, here's several helpful packages to load\n",
    "\n",
    "import numpy as np # linear algebra\n",
    "import pandas as pd # data processing, CSV file I/O (e.g. pd.read_csv)\n",
    "import matplotlib.pyplot as plt\n",
    "import seaborn as sns\n",
    "sns.color_palette(\"mako\", as_cmap=True) #getting color palette for project\n",
    "\n",
    "# Input data files are available in the read-only \"../input/\" directory\n",
    "# For example, running this (by clicking run or pressing Shift+Enter) will list all files under the input directory\n",
    "\n",
    "import os\n",
    "for dirname, _, filenames in os.walk('/kaggle/input'):\n",
    "    for filename in filenames:\n",
    "        print(os.path.join(dirname, filename))\n",
    "\n",
    "# You can write up to 20GB to the current directory (/kaggle/working/) that gets preserved as output when you create a version using \"Save & Run All\" \n",
    "# You can also write temporary files to /kaggle/temp/, but they won't be saved outside of the current session"
   ]
  },
  {
   "cell_type": "markdown",
   "id": "2f28dd8f",
   "metadata": {
    "papermill": {
     "duration": 0.009013,
     "end_time": "2023-05-30T15:42:12.426656",
     "exception": false,
     "start_time": "2023-05-30T15:42:12.417643",
     "status": "completed"
    },
    "tags": []
   },
   "source": [
    "## Project Scope\n",
    "<ul>\n",
    "<li>Using solar generation and associated temperature data to explore time series forecasting.</li>\n",
    "<li>Compare the performance of XGBoost and a deep learning LSTM model to make a 2-Day forecast of power generation</li>\n",
    "<li>See what impact including the temperature data has on the forecast</li>\n",
    "<li>Experiment with feature engineering and test the impact differernt features have on the models</li>\n",
    "<li>Fine tune the models</li>\n",
    "<li>Report on what model is ultimately more successful and comment on possible project extensions</li>\n",
    "</ul>"
   ]
  },
  {
   "cell_type": "markdown",
   "id": "69b4cf2c",
   "metadata": {
    "papermill": {
     "duration": 0.008376,
     "end_time": "2023-05-30T15:42:12.443651",
     "exception": false,
     "start_time": "2023-05-30T15:42:12.435275",
     "status": "completed"
    },
    "tags": []
   },
   "source": [
    "## Loading and exploring data\n",
    "This data was taken from two solar plants in India of the course of 34 days in 15 minute intervals. The weather data is on the plant level (just measured from one sensor) and the generation data is gathered from individual inverters across the plant. More information can be found here: \n",
    "<a href=\"https://www.kaggle.com/datasets/anikannal/solar-power-generation-data\">Data Card</a>. Credit to \n",
    "<a href=\"https://www.kaggle.com/anikannal\">Ani Kannal</a> for uploading this dataset to Kaggle."
   ]
  },
  {
   "cell_type": "code",
   "execution_count": 2,
   "id": "ee43441e",
   "metadata": {
    "execution": {
     "iopub.execute_input": "2023-05-30T15:42:12.462666Z",
     "iopub.status.busy": "2023-05-30T15:42:12.462254Z",
     "iopub.status.idle": "2023-05-30T15:42:12.928226Z",
     "shell.execute_reply": "2023-05-30T15:42:12.927367Z"
    },
    "papermill": {
     "duration": 0.478665,
     "end_time": "2023-05-30T15:42:12.930852",
     "exception": false,
     "start_time": "2023-05-30T15:42:12.452187",
     "status": "completed"
    },
    "tags": []
   },
   "outputs": [],
   "source": [
    "plt1_gen = pd.read_csv('/kaggle/input/solar-power-generation-data/Plant_1_Generation_Data.csv')\n",
    "plt2_gen = pd.read_csv('/kaggle/input/solar-power-generation-data/Plant_2_Generation_Data.csv')\n",
    "plt1_weather = pd.read_csv('/kaggle/input/solar-power-generation-data/Plant_1_Weather_Sensor_Data.csv')\n",
    "plt2_weather = pd.read_csv('/kaggle/input/solar-power-generation-data/Plant_2_Weather_Sensor_Data.csv')"
   ]
  },
  {
   "cell_type": "code",
   "execution_count": 3,
   "id": "33d1ab7b",
   "metadata": {
    "execution": {
     "iopub.execute_input": "2023-05-30T15:42:12.952567Z",
     "iopub.status.busy": "2023-05-30T15:42:12.951485Z",
     "iopub.status.idle": "2023-05-30T15:42:12.989457Z",
     "shell.execute_reply": "2023-05-30T15:42:12.988270Z"
    },
    "papermill": {
     "duration": 0.050583,
     "end_time": "2023-05-30T15:42:12.991989",
     "exception": false,
     "start_time": "2023-05-30T15:42:12.941406",
     "status": "completed"
    },
    "tags": []
   },
   "outputs": [
    {
     "data": {
      "text/html": [
       "<div>\n",
       "<style scoped>\n",
       "    .dataframe tbody tr th:only-of-type {\n",
       "        vertical-align: middle;\n",
       "    }\n",
       "\n",
       "    .dataframe tbody tr th {\n",
       "        vertical-align: top;\n",
       "    }\n",
       "\n",
       "    .dataframe thead th {\n",
       "        text-align: right;\n",
       "    }\n",
       "</style>\n",
       "<table border=\"1\" class=\"dataframe\">\n",
       "  <thead>\n",
       "    <tr style=\"text-align: right;\">\n",
       "      <th></th>\n",
       "      <th>DATE_TIME</th>\n",
       "      <th>PLANT_ID</th>\n",
       "      <th>SOURCE_KEY</th>\n",
       "      <th>DC_POWER</th>\n",
       "      <th>AC_POWER</th>\n",
       "      <th>DAILY_YIELD</th>\n",
       "      <th>TOTAL_YIELD</th>\n",
       "    </tr>\n",
       "  </thead>\n",
       "  <tbody>\n",
       "    <tr>\n",
       "      <th>0</th>\n",
       "      <td>15-05-2020 00:00</td>\n",
       "      <td>4135001</td>\n",
       "      <td>1BY6WEcLGh8j5v7</td>\n",
       "      <td>0.0</td>\n",
       "      <td>0.0</td>\n",
       "      <td>0.0</td>\n",
       "      <td>6259559.0</td>\n",
       "    </tr>\n",
       "    <tr>\n",
       "      <th>1</th>\n",
       "      <td>15-05-2020 00:00</td>\n",
       "      <td>4135001</td>\n",
       "      <td>1IF53ai7Xc0U56Y</td>\n",
       "      <td>0.0</td>\n",
       "      <td>0.0</td>\n",
       "      <td>0.0</td>\n",
       "      <td>6183645.0</td>\n",
       "    </tr>\n",
       "    <tr>\n",
       "      <th>2</th>\n",
       "      <td>15-05-2020 00:00</td>\n",
       "      <td>4135001</td>\n",
       "      <td>3PZuoBAID5Wc2HD</td>\n",
       "      <td>0.0</td>\n",
       "      <td>0.0</td>\n",
       "      <td>0.0</td>\n",
       "      <td>6987759.0</td>\n",
       "    </tr>\n",
       "    <tr>\n",
       "      <th>3</th>\n",
       "      <td>15-05-2020 00:00</td>\n",
       "      <td>4135001</td>\n",
       "      <td>7JYdWkrLSPkdwr4</td>\n",
       "      <td>0.0</td>\n",
       "      <td>0.0</td>\n",
       "      <td>0.0</td>\n",
       "      <td>7602960.0</td>\n",
       "    </tr>\n",
       "    <tr>\n",
       "      <th>4</th>\n",
       "      <td>15-05-2020 00:00</td>\n",
       "      <td>4135001</td>\n",
       "      <td>McdE0feGgRqW7Ca</td>\n",
       "      <td>0.0</td>\n",
       "      <td>0.0</td>\n",
       "      <td>0.0</td>\n",
       "      <td>7158964.0</td>\n",
       "    </tr>\n",
       "  </tbody>\n",
       "</table>\n",
       "</div>"
      ],
      "text/plain": [
       "          DATE_TIME  PLANT_ID       SOURCE_KEY  DC_POWER  AC_POWER  \\\n",
       "0  15-05-2020 00:00   4135001  1BY6WEcLGh8j5v7       0.0       0.0   \n",
       "1  15-05-2020 00:00   4135001  1IF53ai7Xc0U56Y       0.0       0.0   \n",
       "2  15-05-2020 00:00   4135001  3PZuoBAID5Wc2HD       0.0       0.0   \n",
       "3  15-05-2020 00:00   4135001  7JYdWkrLSPkdwr4       0.0       0.0   \n",
       "4  15-05-2020 00:00   4135001  McdE0feGgRqW7Ca       0.0       0.0   \n",
       "\n",
       "   DAILY_YIELD  TOTAL_YIELD  \n",
       "0          0.0    6259559.0  \n",
       "1          0.0    6183645.0  \n",
       "2          0.0    6987759.0  \n",
       "3          0.0    7602960.0  \n",
       "4          0.0    7158964.0  "
      ]
     },
     "execution_count": 3,
     "metadata": {},
     "output_type": "execute_result"
    }
   ],
   "source": [
    "plt1_gen.head()"
   ]
  },
  {
   "cell_type": "code",
   "execution_count": 4,
   "id": "1331b224",
   "metadata": {
    "execution": {
     "iopub.execute_input": "2023-05-30T15:42:13.012254Z",
     "iopub.status.busy": "2023-05-30T15:42:13.011450Z",
     "iopub.status.idle": "2023-05-30T15:42:13.027416Z",
     "shell.execute_reply": "2023-05-30T15:42:13.026270Z"
    },
    "papermill": {
     "duration": 0.028934,
     "end_time": "2023-05-30T15:42:13.029939",
     "exception": false,
     "start_time": "2023-05-30T15:42:13.001005",
     "status": "completed"
    },
    "tags": []
   },
   "outputs": [
    {
     "data": {
      "text/html": [
       "<div>\n",
       "<style scoped>\n",
       "    .dataframe tbody tr th:only-of-type {\n",
       "        vertical-align: middle;\n",
       "    }\n",
       "\n",
       "    .dataframe tbody tr th {\n",
       "        vertical-align: top;\n",
       "    }\n",
       "\n",
       "    .dataframe thead th {\n",
       "        text-align: right;\n",
       "    }\n",
       "</style>\n",
       "<table border=\"1\" class=\"dataframe\">\n",
       "  <thead>\n",
       "    <tr style=\"text-align: right;\">\n",
       "      <th></th>\n",
       "      <th>DATE_TIME</th>\n",
       "      <th>PLANT_ID</th>\n",
       "      <th>SOURCE_KEY</th>\n",
       "      <th>DC_POWER</th>\n",
       "      <th>AC_POWER</th>\n",
       "      <th>DAILY_YIELD</th>\n",
       "      <th>TOTAL_YIELD</th>\n",
       "    </tr>\n",
       "  </thead>\n",
       "  <tbody>\n",
       "    <tr>\n",
       "      <th>68773</th>\n",
       "      <td>17-06-2020 23:45</td>\n",
       "      <td>4135001</td>\n",
       "      <td>uHbuxQJl8lW7ozc</td>\n",
       "      <td>0.0</td>\n",
       "      <td>0.0</td>\n",
       "      <td>5967.000</td>\n",
       "      <td>7287002.0</td>\n",
       "    </tr>\n",
       "    <tr>\n",
       "      <th>68774</th>\n",
       "      <td>17-06-2020 23:45</td>\n",
       "      <td>4135001</td>\n",
       "      <td>wCURE6d3bPkepu2</td>\n",
       "      <td>0.0</td>\n",
       "      <td>0.0</td>\n",
       "      <td>5147.625</td>\n",
       "      <td>7028601.0</td>\n",
       "    </tr>\n",
       "    <tr>\n",
       "      <th>68775</th>\n",
       "      <td>17-06-2020 23:45</td>\n",
       "      <td>4135001</td>\n",
       "      <td>z9Y9gH1T5YWrNuG</td>\n",
       "      <td>0.0</td>\n",
       "      <td>0.0</td>\n",
       "      <td>5819.000</td>\n",
       "      <td>7251204.0</td>\n",
       "    </tr>\n",
       "    <tr>\n",
       "      <th>68776</th>\n",
       "      <td>17-06-2020 23:45</td>\n",
       "      <td>4135001</td>\n",
       "      <td>zBIq5rxdHJRwDNY</td>\n",
       "      <td>0.0</td>\n",
       "      <td>0.0</td>\n",
       "      <td>5817.000</td>\n",
       "      <td>6583369.0</td>\n",
       "    </tr>\n",
       "    <tr>\n",
       "      <th>68777</th>\n",
       "      <td>17-06-2020 23:45</td>\n",
       "      <td>4135001</td>\n",
       "      <td>zVJPv84UY57bAof</td>\n",
       "      <td>0.0</td>\n",
       "      <td>0.0</td>\n",
       "      <td>5910.000</td>\n",
       "      <td>7363272.0</td>\n",
       "    </tr>\n",
       "  </tbody>\n",
       "</table>\n",
       "</div>"
      ],
      "text/plain": [
       "              DATE_TIME  PLANT_ID       SOURCE_KEY  DC_POWER  AC_POWER  \\\n",
       "68773  17-06-2020 23:45   4135001  uHbuxQJl8lW7ozc       0.0       0.0   \n",
       "68774  17-06-2020 23:45   4135001  wCURE6d3bPkepu2       0.0       0.0   \n",
       "68775  17-06-2020 23:45   4135001  z9Y9gH1T5YWrNuG       0.0       0.0   \n",
       "68776  17-06-2020 23:45   4135001  zBIq5rxdHJRwDNY       0.0       0.0   \n",
       "68777  17-06-2020 23:45   4135001  zVJPv84UY57bAof       0.0       0.0   \n",
       "\n",
       "       DAILY_YIELD  TOTAL_YIELD  \n",
       "68773     5967.000    7287002.0  \n",
       "68774     5147.625    7028601.0  \n",
       "68775     5819.000    7251204.0  \n",
       "68776     5817.000    6583369.0  \n",
       "68777     5910.000    7363272.0  "
      ]
     },
     "execution_count": 4,
     "metadata": {},
     "output_type": "execute_result"
    }
   ],
   "source": [
    "plt1_gen.tail()"
   ]
  },
  {
   "cell_type": "markdown",
   "id": "4c6d80f4",
   "metadata": {
    "papermill": {
     "duration": 0.008842,
     "end_time": "2023-05-30T15:42:13.047901",
     "exception": false,
     "start_time": "2023-05-30T15:42:13.039059",
     "status": "completed"
    },
    "tags": []
   },
   "source": [
    "Notes: PLANT_ID is the same throughout, so it can be safely removed. The generation for these times is 0, because it is nighttime. Since we are targeting plant level generation, I will groupby DATE_TIME and sum the data for each timestamp. I will then make the datetime the index. First, I'll check for nulls and make sure there is data for every timestamp."
   ]
  },
  {
   "cell_type": "code",
   "execution_count": 5,
   "id": "7b50b73e",
   "metadata": {
    "execution": {
     "iopub.execute_input": "2023-05-30T15:42:13.068473Z",
     "iopub.status.busy": "2023-05-30T15:42:13.067672Z",
     "iopub.status.idle": "2023-05-30T15:42:13.136747Z",
     "shell.execute_reply": "2023-05-30T15:42:13.135301Z"
    },
    "papermill": {
     "duration": 0.082574,
     "end_time": "2023-05-30T15:42:13.139651",
     "exception": false,
     "start_time": "2023-05-30T15:42:13.057077",
     "status": "completed"
    },
    "tags": []
   },
   "outputs": [
    {
     "name": "stdout",
     "output_type": "stream",
     "text": [
      "<class 'pandas.core.frame.DataFrame'>\n",
      "RangeIndex: 68778 entries, 0 to 68777\n",
      "Data columns (total 7 columns):\n",
      " #   Column       Non-Null Count  Dtype  \n",
      "---  ------       --------------  -----  \n",
      " 0   DATE_TIME    68778 non-null  object \n",
      " 1   PLANT_ID     68778 non-null  int64  \n",
      " 2   SOURCE_KEY   68778 non-null  object \n",
      " 3   DC_POWER     68778 non-null  float64\n",
      " 4   AC_POWER     68778 non-null  float64\n",
      " 5   DAILY_YIELD  68778 non-null  float64\n",
      " 6   TOTAL_YIELD  68778 non-null  float64\n",
      "dtypes: float64(4), int64(1), object(2)\n",
      "memory usage: 3.7+ MB\n"
     ]
    }
   ],
   "source": [
    "plt1_gen.info()"
   ]
  },
  {
   "cell_type": "markdown",
   "id": "6baccaf1",
   "metadata": {
    "papermill": {
     "duration": 0.008933,
     "end_time": "2023-05-30T15:42:13.158097",
     "exception": false,
     "start_time": "2023-05-30T15:42:13.149164",
     "status": "completed"
    },
    "tags": []
   },
   "source": [
    "Notes: The dtypes make sense. I will need to make the DATE_TIME a datetime dtype. No nulls detected here, but there still could be outliers or nulls encoded in a different way."
   ]
  },
  {
   "cell_type": "code",
   "execution_count": 6,
   "id": "d4b38fe5",
   "metadata": {
    "execution": {
     "iopub.execute_input": "2023-05-30T15:42:13.179303Z",
     "iopub.status.busy": "2023-05-30T15:42:13.178496Z",
     "iopub.status.idle": "2023-05-30T15:42:13.225508Z",
     "shell.execute_reply": "2023-05-30T15:42:13.224301Z"
    },
    "papermill": {
     "duration": 0.060856,
     "end_time": "2023-05-30T15:42:13.228188",
     "exception": false,
     "start_time": "2023-05-30T15:42:13.167332",
     "status": "completed"
    },
    "tags": []
   },
   "outputs": [
    {
     "data": {
      "text/html": [
       "<div>\n",
       "<style scoped>\n",
       "    .dataframe tbody tr th:only-of-type {\n",
       "        vertical-align: middle;\n",
       "    }\n",
       "\n",
       "    .dataframe tbody tr th {\n",
       "        vertical-align: top;\n",
       "    }\n",
       "\n",
       "    .dataframe thead th {\n",
       "        text-align: right;\n",
       "    }\n",
       "</style>\n",
       "<table border=\"1\" class=\"dataframe\">\n",
       "  <thead>\n",
       "    <tr style=\"text-align: right;\">\n",
       "      <th></th>\n",
       "      <th>count</th>\n",
       "      <th>mean</th>\n",
       "      <th>std</th>\n",
       "      <th>min</th>\n",
       "      <th>25%</th>\n",
       "      <th>50%</th>\n",
       "      <th>75%</th>\n",
       "      <th>max</th>\n",
       "    </tr>\n",
       "  </thead>\n",
       "  <tbody>\n",
       "    <tr>\n",
       "      <th>PLANT_ID</th>\n",
       "      <td>68778.0</td>\n",
       "      <td>4.135001e+06</td>\n",
       "      <td>0.000000</td>\n",
       "      <td>4135001.0</td>\n",
       "      <td>4.135001e+06</td>\n",
       "      <td>4.135001e+06</td>\n",
       "      <td>4.135001e+06</td>\n",
       "      <td>4135001.000</td>\n",
       "    </tr>\n",
       "    <tr>\n",
       "      <th>DC_POWER</th>\n",
       "      <td>68778.0</td>\n",
       "      <td>3.147426e+03</td>\n",
       "      <td>4036.457169</td>\n",
       "      <td>0.0</td>\n",
       "      <td>0.000000e+00</td>\n",
       "      <td>4.290000e+02</td>\n",
       "      <td>6.366964e+03</td>\n",
       "      <td>14471.125</td>\n",
       "    </tr>\n",
       "    <tr>\n",
       "      <th>AC_POWER</th>\n",
       "      <td>68778.0</td>\n",
       "      <td>3.078028e+02</td>\n",
       "      <td>394.396439</td>\n",
       "      <td>0.0</td>\n",
       "      <td>0.000000e+00</td>\n",
       "      <td>4.149375e+01</td>\n",
       "      <td>6.236187e+02</td>\n",
       "      <td>1410.950</td>\n",
       "    </tr>\n",
       "    <tr>\n",
       "      <th>DAILY_YIELD</th>\n",
       "      <td>68778.0</td>\n",
       "      <td>3.295969e+03</td>\n",
       "      <td>3145.178309</td>\n",
       "      <td>0.0</td>\n",
       "      <td>0.000000e+00</td>\n",
       "      <td>2.658714e+03</td>\n",
       "      <td>6.274000e+03</td>\n",
       "      <td>9163.000</td>\n",
       "    </tr>\n",
       "    <tr>\n",
       "      <th>TOTAL_YIELD</th>\n",
       "      <td>68778.0</td>\n",
       "      <td>6.978712e+06</td>\n",
       "      <td>416271.982856</td>\n",
       "      <td>6183645.0</td>\n",
       "      <td>6.512003e+06</td>\n",
       "      <td>7.146685e+06</td>\n",
       "      <td>7.268706e+06</td>\n",
       "      <td>7846821.000</td>\n",
       "    </tr>\n",
       "  </tbody>\n",
       "</table>\n",
       "</div>"
      ],
      "text/plain": [
       "               count          mean            std        min           25%  \\\n",
       "PLANT_ID     68778.0  4.135001e+06       0.000000  4135001.0  4.135001e+06   \n",
       "DC_POWER     68778.0  3.147426e+03    4036.457169        0.0  0.000000e+00   \n",
       "AC_POWER     68778.0  3.078028e+02     394.396439        0.0  0.000000e+00   \n",
       "DAILY_YIELD  68778.0  3.295969e+03    3145.178309        0.0  0.000000e+00   \n",
       "TOTAL_YIELD  68778.0  6.978712e+06  416271.982856  6183645.0  6.512003e+06   \n",
       "\n",
       "                      50%           75%          max  \n",
       "PLANT_ID     4.135001e+06  4.135001e+06  4135001.000  \n",
       "DC_POWER     4.290000e+02  6.366964e+03    14471.125  \n",
       "AC_POWER     4.149375e+01  6.236187e+02     1410.950  \n",
       "DAILY_YIELD  2.658714e+03  6.274000e+03     9163.000  \n",
       "TOTAL_YIELD  7.146685e+06  7.268706e+06  7846821.000  "
      ]
     },
     "execution_count": 6,
     "metadata": {},
     "output_type": "execute_result"
    }
   ],
   "source": [
    "plt1_gen.describe().T"
   ]
  },
  {
   "cell_type": "code",
   "execution_count": 7,
   "id": "ae851524",
   "metadata": {
    "execution": {
     "iopub.execute_input": "2023-05-30T15:42:13.249433Z",
     "iopub.status.busy": "2023-05-30T15:42:13.248640Z",
     "iopub.status.idle": "2023-05-30T15:42:13.263138Z",
     "shell.execute_reply": "2023-05-30T15:42:13.261903Z"
    },
    "papermill": {
     "duration": 0.028247,
     "end_time": "2023-05-30T15:42:13.265871",
     "exception": false,
     "start_time": "2023-05-30T15:42:13.237624",
     "status": "completed"
    },
    "tags": []
   },
   "outputs": [
    {
     "data": {
      "text/plain": [
       "22"
      ]
     },
     "execution_count": 7,
     "metadata": {},
     "output_type": "execute_result"
    }
   ],
   "source": [
    "plt1_gen.SOURCE_KEY.nunique()"
   ]
  },
  {
   "cell_type": "markdown",
   "id": "72f89df3",
   "metadata": {
    "execution": {
     "iopub.execute_input": "2023-05-29T21:02:17.811547Z",
     "iopub.status.busy": "2023-05-29T21:02:17.810400Z",
     "iopub.status.idle": "2023-05-29T21:02:17.818688Z",
     "shell.execute_reply": "2023-05-29T21:02:17.816992Z",
     "shell.execute_reply.started": "2023-05-29T21:02:17.811504Z"
    },
    "papermill": {
     "duration": 0.009877,
     "end_time": "2023-05-30T15:42:13.285507",
     "exception": false,
     "start_time": "2023-05-30T15:42:13.275630",
     "status": "completed"
    },
    "tags": []
   },
   "source": [
    "Notes: There are 22 sources so I would expect there to be 34 * 24 * 4 * 22 = 71808 rows altogether. However, there are only 68777, so 3031 or ~4% of the total are missing. Although probably not enough to greatly inpact our model, I will plan on imputing the missing data. First, I will explore whether these are just some inverters missing data or they are missing at the plant level."
   ]
  },
  {
   "cell_type": "code",
   "execution_count": 8,
   "id": "a43052a8",
   "metadata": {
    "execution": {
     "iopub.execute_input": "2023-05-30T15:42:13.306720Z",
     "iopub.status.busy": "2023-05-30T15:42:13.306307Z",
     "iopub.status.idle": "2023-05-30T15:42:13.345697Z",
     "shell.execute_reply": "2023-05-30T15:42:13.344547Z"
    },
    "papermill": {
     "duration": 0.053096,
     "end_time": "2023-05-30T15:42:13.348338",
     "exception": false,
     "start_time": "2023-05-30T15:42:13.295242",
     "status": "completed"
    },
    "tags": []
   },
   "outputs": [
    {
     "data": {
      "text/plain": [
       "22"
      ]
     },
     "execution_count": 8,
     "metadata": {},
     "output_type": "execute_result"
    }
   ],
   "source": [
    "plt1_gen.groupby('SOURCE_KEY').count().DATE_TIME.count()"
   ]
  },
  {
   "cell_type": "markdown",
   "id": "ee0645ab",
   "metadata": {
    "papermill": {
     "duration": 0.009805,
     "end_time": "2023-05-30T15:42:13.368438",
     "exception": false,
     "start_time": "2023-05-30T15:42:13.358633",
     "status": "completed"
    },
    "tags": []
   },
   "source": [
    "Notes: Each inverter would have 34 * 24 * 4 = 3264 data points if every timestamp was present."
   ]
  },
  {
   "cell_type": "code",
   "execution_count": 9,
   "id": "906c0c49",
   "metadata": {
    "execution": {
     "iopub.execute_input": "2023-05-30T15:42:13.389646Z",
     "iopub.status.busy": "2023-05-30T15:42:13.389179Z",
     "iopub.status.idle": "2023-05-30T15:42:13.429718Z",
     "shell.execute_reply": "2023-05-30T15:42:13.428590Z"
    },
    "papermill": {
     "duration": 0.054175,
     "end_time": "2023-05-30T15:42:13.432326",
     "exception": false,
     "start_time": "2023-05-30T15:42:13.378151",
     "status": "completed"
    },
    "tags": []
   },
   "outputs": [
    {
     "data": {
      "text/plain": [
       "3104"
      ]
     },
     "execution_count": 9,
     "metadata": {},
     "output_type": "execute_result"
    }
   ],
   "source": [
    "plt1_gen.groupby('SOURCE_KEY').count().DATE_TIME.min()"
   ]
  },
  {
   "cell_type": "markdown",
   "id": "8f9bec05",
   "metadata": {
    "papermill": {
     "duration": 0.009996,
     "end_time": "2023-05-30T15:42:13.452403",
     "exception": false,
     "start_time": "2023-05-30T15:42:13.442407",
     "status": "completed"
    },
    "tags": []
   },
   "source": [
    "Notes: The inverter with the least number of readings still has ~95% of the excepted number."
   ]
  },
  {
   "cell_type": "code",
   "execution_count": 10,
   "id": "6aa47c3f",
   "metadata": {
    "execution": {
     "iopub.execute_input": "2023-05-30T15:42:13.474666Z",
     "iopub.status.busy": "2023-05-30T15:42:13.474243Z",
     "iopub.status.idle": "2023-05-30T15:42:13.519262Z",
     "shell.execute_reply": "2023-05-30T15:42:13.518133Z"
    },
    "papermill": {
     "duration": 0.059056,
     "end_time": "2023-05-30T15:42:13.521695",
     "exception": false,
     "start_time": "2023-05-30T15:42:13.462639",
     "status": "completed"
    },
    "tags": []
   },
   "outputs": [
    {
     "data": {
      "text/plain": [
       "3158"
      ]
     },
     "execution_count": 10,
     "metadata": {},
     "output_type": "execute_result"
    }
   ],
   "source": [
    "#Switching DATE_TIME column to datetime dtype.\n",
    "plt1_gen['DATE_TIME'] = pd.to_datetime(plt1_gen.DATE_TIME, format='%d-%m-%Y %H:%M')\n",
    "plt1_gen.DATE_TIME.nunique() #output 3158"
   ]
  },
  {
   "cell_type": "markdown",
   "id": "26927d23",
   "metadata": {
    "papermill": {
     "duration": 0.010684,
     "end_time": "2023-05-30T15:42:13.542620",
     "exception": false,
     "start_time": "2023-05-30T15:42:13.531936",
     "status": "completed"
    },
    "tags": []
   },
   "source": [
    "Note: There are also some entire timestamps missing on the plant level. First I will rollup the inverters to the plant level and then fill in the missing timestamps by creating the full excepted datetime range and merging it with the current dataframe "
   ]
  },
  {
   "cell_type": "code",
   "execution_count": 11,
   "id": "1f1315aa",
   "metadata": {
    "execution": {
     "iopub.execute_input": "2023-05-30T15:42:13.565533Z",
     "iopub.status.busy": "2023-05-30T15:42:13.564308Z",
     "iopub.status.idle": "2023-05-30T15:42:13.577797Z",
     "shell.execute_reply": "2023-05-30T15:42:13.576639Z"
    },
    "papermill": {
     "duration": 0.02758,
     "end_time": "2023-05-30T15:42:13.580439",
     "exception": false,
     "start_time": "2023-05-30T15:42:13.552859",
     "status": "completed"
    },
    "tags": []
   },
   "outputs": [],
   "source": [
    "plt1_gen = plt1_gen.drop('PLANT_ID', axis=1)\n",
    "plt1_gen = plt1_gen.groupby('DATE_TIME').sum(numeric_only=True)"
   ]
  },
  {
   "cell_type": "code",
   "execution_count": 12,
   "id": "3ffd0c8b",
   "metadata": {
    "execution": {
     "iopub.execute_input": "2023-05-30T15:42:13.603327Z",
     "iopub.status.busy": "2023-05-30T15:42:13.602492Z",
     "iopub.status.idle": "2023-05-30T15:42:14.000939Z",
     "shell.execute_reply": "2023-05-30T15:42:13.999798Z"
    },
    "papermill": {
     "duration": 0.412808,
     "end_time": "2023-05-30T15:42:14.003589",
     "exception": false,
     "start_time": "2023-05-30T15:42:13.590781",
     "status": "completed"
    },
    "tags": []
   },
   "outputs": [
    {
     "data": {
      "text/plain": [
       "<Axes: >"
      ]
     },
     "execution_count": 12,
     "metadata": {},
     "output_type": "execute_result"
    },
    {
     "data": {
      "image/png": "[encoded data removed]",
      "text/plain": [
       "<Figure size 640x480 with 2 Axes>"
      ]
     },
     "metadata": {},
     "output_type": "display_data"
    }
   ],
   "source": [
    "sns.heatmap(plt1_gen.corr(), annot =True)"
   ]
  },
  {
   "cell_type": "markdown",
   "id": "774a9947",
   "metadata": {
    "papermill": {
     "duration": 0.010564,
     "end_time": "2023-05-30T15:42:14.024973",
     "exception": false,
     "start_time": "2023-05-30T15:42:14.014409",
     "status": "completed"
    },
    "tags": []
   },
   "source": [
    "Notes: Not surprising DC_POWER and AC_POWER are highly correlated. Since I am ultimately interested in power generation after the inverter inverts to AC, I will make AC_POWER the target, droping the other columns."
   ]
  },
  {
   "cell_type": "code",
   "execution_count": 13,
   "id": "afa7bcaf",
   "metadata": {
    "execution": {
     "iopub.execute_input": "2023-05-30T15:42:14.049442Z",
     "iopub.status.busy": "2023-05-30T15:42:14.048725Z",
     "iopub.status.idle": "2023-05-30T15:42:14.054349Z",
     "shell.execute_reply": "2023-05-30T15:42:14.053486Z"
    },
    "papermill": {
     "duration": 0.021051,
     "end_time": "2023-05-30T15:42:14.056765",
     "exception": false,
     "start_time": "2023-05-30T15:42:14.035714",
     "status": "completed"
    },
    "tags": []
   },
   "outputs": [],
   "source": [
    "plt1_gen = plt1_gen.drop(['DC_POWER', 'DAILY_YIELD', 'TOTAL_YIELD'], axis=1)"
   ]
  },
  {
   "cell_type": "code",
   "execution_count": 14,
   "id": "f82f69b2",
   "metadata": {
    "execution": {
     "iopub.execute_input": "2023-05-30T15:42:14.081146Z",
     "iopub.status.busy": "2023-05-30T15:42:14.080452Z",
     "iopub.status.idle": "2023-05-30T15:42:14.088018Z",
     "shell.execute_reply": "2023-05-30T15:42:14.086965Z"
    },
    "papermill": {
     "duration": 0.022375,
     "end_time": "2023-05-30T15:42:14.090343",
     "exception": false,
     "start_time": "2023-05-30T15:42:14.067968",
     "status": "completed"
    },
    "tags": []
   },
   "outputs": [
    {
     "data": {
      "text/plain": [
       "DatetimeIndex(['2020-05-15 00:00:00', '2020-05-15 00:15:00',\n",
       "               '2020-05-15 00:30:00', '2020-05-15 00:45:00',\n",
       "               '2020-05-15 01:00:00', '2020-05-15 01:15:00',\n",
       "               '2020-05-15 01:30:00', '2020-05-15 01:45:00',\n",
       "               '2020-05-15 02:00:00', '2020-05-15 02:15:00',\n",
       "               ...\n",
       "               '2020-06-17 21:30:00', '2020-06-17 21:45:00',\n",
       "               '2020-06-17 22:00:00', '2020-06-17 22:15:00',\n",
       "               '2020-06-17 22:30:00', '2020-06-17 22:45:00',\n",
       "               '2020-06-17 23:00:00', '2020-06-17 23:15:00',\n",
       "               '2020-06-17 23:30:00', '2020-06-17 23:45:00'],\n",
       "              dtype='datetime64[ns]', name='DATE_TIME', length=3158, freq=None)"
      ]
     },
     "execution_count": 14,
     "metadata": {},
     "output_type": "execute_result"
    }
   ],
   "source": [
    "plt1_gen.index"
   ]
  },
  {
   "cell_type": "code",
   "execution_count": 15,
   "id": "4816256d",
   "metadata": {
    "execution": {
     "iopub.execute_input": "2023-05-30T15:42:14.114308Z",
     "iopub.status.busy": "2023-05-30T15:42:14.113850Z",
     "iopub.status.idle": "2023-05-30T15:42:14.123138Z",
     "shell.execute_reply": "2023-05-30T15:42:14.122280Z"
    },
    "papermill": {
     "duration": 0.02406,
     "end_time": "2023-05-30T15:42:14.125397",
     "exception": false,
     "start_time": "2023-05-30T15:42:14.101337",
     "status": "completed"
    },
    "tags": []
   },
   "outputs": [],
   "source": [
    "#Next I will make a full datetime range series to merge with the plt1_gen dataframe\n",
    "date_time_full = pd.date_range('2020-05-15', '2020-06-17 23:45', freq='15min')\n",
    "date_time_full = pd.Series(date_time_full, name='DATE_TIME') #making a Series to allow merging"
   ]
  },
  {
   "cell_type": "code",
   "execution_count": 16,
   "id": "a3895b79",
   "metadata": {
    "execution": {
     "iopub.execute_input": "2023-05-30T15:42:14.149409Z",
     "iopub.status.busy": "2023-05-30T15:42:14.148662Z",
     "iopub.status.idle": "2023-05-30T15:42:14.166082Z",
     "shell.execute_reply": "2023-05-30T15:42:14.165004Z"
    },
    "papermill": {
     "duration": 0.032171,
     "end_time": "2023-05-30T15:42:14.168574",
     "exception": false,
     "start_time": "2023-05-30T15:42:14.136403",
     "status": "completed"
    },
    "tags": []
   },
   "outputs": [],
   "source": [
    "df = plt1_gen.merge(date_time_full, right_on='DATE_TIME', left_index=True, how='right')\n",
    "df.index = df.pop('DATE_TIME')\n",
    "df = df.sort_index()"
   ]
  },
  {
   "cell_type": "code",
   "execution_count": 17,
   "id": "5387ba24",
   "metadata": {
    "execution": {
     "iopub.execute_input": "2023-05-30T15:42:14.193171Z",
     "iopub.status.busy": "2023-05-30T15:42:14.192013Z",
     "iopub.status.idle": "2023-05-30T15:42:14.603173Z",
     "shell.execute_reply": "2023-05-30T15:42:14.601981Z"
    },
    "papermill": {
     "duration": 0.426192,
     "end_time": "2023-05-30T15:42:14.605831",
     "exception": false,
     "start_time": "2023-05-30T15:42:14.179639",
     "status": "completed"
    },
    "tags": []
   },
   "outputs": [
    {
     "data": {
      "text/plain": [
       "<Axes: ylabel='Count'>"
      ]
     },
     "execution_count": 17,
     "metadata": {},
     "output_type": "execute_result"
    },
    {
     "data": {
      "image/png": "[encoded data removed]",
      "text/plain": [
       "<Figure size 640x480 with 1 Axes>"
      ]
     },
     "metadata": {},
     "output_type": "display_data"
    }
   ],
   "source": [
    "sns.histplot(df)"
   ]
  },
  {
   "cell_type": "markdown",
   "id": "5a26d12d",
   "metadata": {
    "papermill": {
     "duration": 0.011622,
     "end_time": "2023-05-30T15:42:14.629286",
     "exception": false,
     "start_time": "2023-05-30T15:42:14.617664",
     "status": "completed"
    },
    "tags": []
   },
   "source": []
  },
  {
   "cell_type": "markdown",
   "id": "d3061012",
   "metadata": {
    "papermill": {
     "duration": 0.01117,
     "end_time": "2023-05-30T15:42:14.651840",
     "exception": false,
     "start_time": "2023-05-30T15:42:14.640670",
     "status": "completed"
    },
    "tags": []
   },
   "source": []
  },
  {
   "cell_type": "markdown",
   "id": "8e2280f7",
   "metadata": {
    "papermill": {
     "duration": 0.011039,
     "end_time": "2023-05-30T15:42:14.674560",
     "exception": false,
     "start_time": "2023-05-30T15:42:14.663521",
     "status": "completed"
    },
    "tags": []
   },
   "source": []
  }
 ],
 "metadata": {
  "kernelspec": {
   "display_name": "Python 3",
   "language": "python",
   "name": "python3"
  },
  "language_info": {
   "codemirror_mode": {
    "name": "ipython",
    "version": 3
   },
   "file_extension": ".py",
   "mimetype": "text/x-python",
   "name": "python",
   "nbconvert_exporter": "python",
   "pygments_lexer": "ipython3",
   "version": "3.10.10"
  },
  "papermill": {
   "default_parameters": {},
   "duration": 17.612077,
   "end_time": "2023-05-30T15:42:15.709646",
   "environment_variables": {},
   "exception": null,
   "input_path": "__notebook__.ipynb",
   "output_path": "__notebook__.ipynb",
   "parameters": {},
   "start_time": "2023-05-30T15:41:58.097569",
   "version": "2.4.0"
  }
 },
 "nbformat": 4,
 "nbformat_minor": 5
}
