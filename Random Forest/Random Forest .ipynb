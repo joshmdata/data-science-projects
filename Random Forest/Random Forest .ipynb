{
 "cells": [
  {
   "cell_type": "code",
   "execution_count": 1,
   "id": "ab1435cd",
   "metadata": {},
   "outputs": [],
   "source": [
    "import pandas as pd\n",
    "import numpy as np\n",
    "import matplotlib.pyplot as plt\n",
    "import seaborn as sns"
   ]
  },
  {
   "cell_type": "code",
   "execution_count": 2,
   "id": "f6fa2743",
   "metadata": {},
   "outputs": [],
   "source": [
    "#Import models from scikit learn module:\n",
    "from sklearn.model_selection import train_test_split\n",
    "from sklearn.tree import DecisionTreeClassifier\n",
    "from sklearn.ensemble import RandomForestClassifier, BaggingClassifier, RandomForestRegressor\n",
    "from sklearn import tree\n",
    "from sklearn.linear_model import LogisticRegression\n",
    "from sklearn.metrics import accuracy_score, precision_score, recall_score, f1_score, roc_auc_score"
   ]
  },
  {
   "cell_type": "code",
   "execution_count": 3,
   "id": "8954fb66",
   "metadata": {},
   "outputs": [],
   "source": [
    "col_names = ['age', 'workclass', 'fnlwgt','education', 'education-num', \n",
    "'marital-status', 'occupation', 'relationship', 'race', 'sex',\n",
    "'capital-gain','capital-loss', 'hours-per-week','native-country', 'income']\n",
    "df = pd.read_csv('adult.data', header=None, names = col_names)"
   ]
  },
  {
   "cell_type": "code",
   "execution_count": 4,
   "id": "44f5c896",
   "metadata": {},
   "outputs": [
    {
     "name": "stdout",
     "output_type": "stream",
     "text": [
      "Percentage of incomes under 50K:  75.92 %\n",
      "Percentage of incomes above 50K:  24.08 %\n"
     ]
    }
   ],
   "source": [
    "#Distribution of income\n",
    "print(\"Percentage of incomes under 50K: \", (df.income.value_counts()[0]/df.income.count() * 100).round(2), \"%\")\n",
    "\n",
    "print(\"Percentage of incomes above 50K: \", (df.income.value_counts()[1]/df.income.count() * 100).round(2), \"%\")"
   ]
  },
  {
   "cell_type": "code",
   "execution_count": 5,
   "id": "06f6d38b",
   "metadata": {},
   "outputs": [],
   "source": [
    "#Clean columns by stripping extra whitespace for columns of type \"object\"\n",
    "for i in df.select_dtypes(include = 'object').columns:\n",
    "  df[i] = df[i].str.strip()"
   ]
  },
  {
   "cell_type": "code",
   "execution_count": 52,
   "id": "f42489bc",
   "metadata": {},
   "outputs": [],
   "source": [
    "#Create feature dataframe X with feature columns and dummy variables for categorical features\n",
    "feature_cols = df.select_dtypes(include = 'object').drop('income', axis = 1).columns\n",
    "num_cols = df.select_dtypes(exclude = 'object').columns\n",
    "X = pd.get_dummies(df[feature_cols], drop_first = True).join(df[num_cols])"
   ]
  },
  {
   "cell_type": "code",
   "execution_count": 53,
   "id": "2e2d6dcf",
   "metadata": {},
   "outputs": [],
   "source": [
    "#Create output variable y which is binary, 0 when income is less than 50k, 1 when it is greather than 50k\n",
    "y = df.income.replace('>50K', 1).replace('<=50K', 0)"
   ]
  },
  {
   "cell_type": "code",
   "execution_count": 54,
   "id": "f75f17a9",
   "metadata": {},
   "outputs": [],
   "source": [
    "#Split data into a train and test set\n",
    "x_train, x_test, y_train, y_test = train_test_split(X, y, test_size = 0.2, random_state = 1)"
   ]
  },
  {
   "cell_type": "code",
   "execution_count": 55,
   "id": "82c72e65",
   "metadata": {},
   "outputs": [
    {
     "name": "stdout",
     "output_type": "stream",
     "text": [
      "model method score:  0.8595117457392907\n"
     ]
    }
   ],
   "source": [
    "#Instantiate random forest classifier, fit and score with default parameters\n",
    "rfc = RandomForestClassifier()\n",
    "rfc.fit(x_train, y_train)\n",
    "print(\"model method score: \", rfc.score(x_test, y_test))"
   ]
  },
  {
   "cell_type": "code",
   "execution_count": 56,
   "id": "b5d8c818",
   "metadata": {},
   "outputs": [],
   "source": [
    "#Tune the hyperparameter max_depth over a range from 1-25, save scores for test and train set\n",
    "# np.random.seed(0)\n",
    "accuracy_train= []\n",
    "accuracy_test = []\n",
    "for i in range(1, 26):\n",
    "  rfc_depth = RandomForestClassifier(max_depth = i)\n",
    "  rfc_depth.fit(x_train, y_train)\n",
    "  accuracy_train.append(rfc_depth.score(x_train, y_train))\n",
    "  accuracy_test.append(rfc_depth.score(x_test, y_test))"
   ]
  },
  {
   "cell_type": "code",
   "execution_count": 57,
   "id": "1b315ce3",
   "metadata": {},
   "outputs": [
    {
     "name": "stdout",
     "output_type": "stream",
     "text": [
      "Best train depth:  0.9546222358722358 24\n",
      "Best test depth:  0.8713342545677875 20\n"
     ]
    }
   ],
   "source": [
    "#Find the best accuracy and at what depth that occurs\n",
    "print(\"Best train depth: \", max(accuracy_train), accuracy_train.index(max(accuracy_train)))\n",
    "print(\"Best test depth: \", max(accuracy_test), accuracy_test.index(max(accuracy_test)))"
   ]
  },
  {
   "cell_type": "code",
   "execution_count": 58,
   "id": "c56cc44b",
   "metadata": {},
   "outputs": [
    {
     "data": {
      "image/png": "[encoded data removed]",
      "text/plain": [
       "<Figure size 640x480 with 1 Axes>"
      ]
     },
     "metadata": {},
     "output_type": "display_data"
    }
   ],
   "source": [
    "#Plot the accuracy scores for the test and train set over the range of depth values  \n",
    "plt.plot(accuracy_train, \"-\")\n",
    "plt.plot(accuracy_test, \"--\")\n",
    "plt.xticks(range(1, 26, 1))\n",
    "plt.vlines(7, 0.7, 0.9)\n",
    "plt.show()"
   ]
  },
  {
   "cell_type": "code",
   "execution_count": 59,
   "id": "9e469e97",
   "metadata": {},
   "outputs": [
    {
     "data": {
      "text/plain": [
       "marital-status_Married-civ-spouse    0.2231\n",
       "capital-gain                         0.1684\n",
       "marital-status_Never-married         0.1014\n",
       "education-num                        0.0956\n",
       "age                                  0.0465\n",
       "                                      ...  \n",
       "workclass_Without-pay                0.0000\n",
       "native-country_Laos                  0.0000\n",
       "native-country_Holand-Netherlands    0.0000\n",
       "workclass_Never-worked               0.0000\n",
       "occupation_Armed-Forces              0.0000\n",
       "Length: 100, dtype: float64"
      ]
     },
     "execution_count": 59,
     "metadata": {},
     "output_type": "execute_result"
    }
   ],
   "source": [
    "#Save the best random forest model and save the feature importances in a dataframe\n",
    "best_rf = RandomForestClassifier(max_depth= 7)\n",
    "best_rf.fit(x_train, y_train)\n",
    "pd.Series(best_rf.feature_importances_, index = best_rf.feature_names_in_).sort_values(ascending=False).round(4)"
   ]
  },
  {
   "cell_type": "code",
   "execution_count": 65,
   "id": "443e816a",
   "metadata": {},
   "outputs": [],
   "source": [
    "#Create two new features, based on education\n",
    "df['education_bin'] = df.education.replace(['Preschool', '1st-4th', '5th-6th', '7th-8th', '9th', '10th', '11th', '12th'], 'High school and less').replace(['Prof-school', 'Assoc-acdm', 'Assoc-voc', 'Some-college', 'Bachelors'], 'College to Bachelors').replace(['Masters', 'Doctorate'], 'Masters and more')\n",
    "\n",
    "feature_cols = ['age', 'capital-gain', 'capital-loss', 'hours-per-week', 'sex', 'race','education_bin']"
   ]
  },
  {
   "cell_type": "code",
   "execution_count": 66,
   "id": "a1f26eac",
   "metadata": {},
   "outputs": [],
   "source": [
    "#Use these two new additional features and recreate X and test/train split\n",
    "feature_cols_new = df[feature_cols].select_dtypes(include = 'object').columns\n",
    "num_cols = df[feature_cols].select_dtypes(exclude = 'object').columns\n",
    "X = pd.get_dummies(df[feature_cols_new], drop_first = True).join(df[num_cols])\n",
    "\n",
    "x_train, x_test, y_train, y_test = train_test_split(X, y, test_size = 0.2, random_state = 1)"
   ]
  },
  {
   "cell_type": "code",
   "execution_count": 68,
   "id": "15ef27af",
   "metadata": {},
   "outputs": [],
   "source": [
    "#Find the best max depth now with the additional two features\n",
    "accuracy_train= []\n",
    "accuracy_test = []\n",
    "for i in range(1, 26):\n",
    "  rfc_new = RandomForestClassifier(max_depth = i)\n",
    "  rfc_new.fit(x_train, y_train)\n",
    "  accuracy_train.append(rfc_new.score(x_train, y_train))\n",
    "  accuracy_test.append(rfc_new.score(x_test, y_test))"
   ]
  },
  {
   "cell_type": "code",
   "execution_count": 69,
   "id": "b022fdc4",
   "metadata": {},
   "outputs": [
    {
     "name": "stdout",
     "output_type": "stream",
     "text": [
      "Best train depth:  0.8652871621621622 24\n",
      "Best test depth:  0.8295716259788116 16\n"
     ]
    }
   ],
   "source": [
    "print(\"Best train depth: \", max(accuracy_train), accuracy_train.index(max(accuracy_train)))\n",
    "print(\"Best test depth: \", max(accuracy_test), accuracy_test.index(max(accuracy_test)))"
   ]
  },
  {
   "cell_type": "code",
   "execution_count": 70,
   "id": "c5e2197f",
   "metadata": {},
   "outputs": [
    {
     "data": {
      "image/png": "[encoded data removed]",
      "text/plain": [
       "<Figure size 640x480 with 1 Axes>"
      ]
     },
     "metadata": {},
     "output_type": "display_data"
    }
   ],
   "source": [
    "plt.plot(accuracy_train, \"-\")\n",
    "plt.plot(accuracy_test, \"--\")\n",
    "plt.xticks(range(1, 26, 1))\n",
    "plt.vlines(7, 0.7, 0.9)\n",
    "plt.show()"
   ]
  },
  {
   "cell_type": "code",
   "execution_count": 71,
   "id": "8e2b5447",
   "metadata": {},
   "outputs": [
    {
     "data": {
      "text/plain": [
       "marital-status_Married-civ-spouse    0.2976\n",
       "marital-status_Never-married         0.1630\n",
       "occupation_Exec-managerial           0.0604\n",
       "sex_Male                             0.0558\n",
       "occupation_Prof-specialty            0.0515\n",
       "                                      ...  \n",
       "native-country_Honduras              0.0000\n",
       "workclass_Never-worked               0.0000\n",
       "native-country_Holand-Netherlands    0.0000\n",
       "workclass_Without-pay                0.0000\n",
       "occupation_Armed-Forces              0.0000\n",
       "Length: 94, dtype: float64"
      ]
     },
     "execution_count": 71,
     "metadata": {},
     "output_type": "execute_result"
    }
   ],
   "source": [
    "#Save the best model and print the two features with the new feature set\n",
    "best_rf = RandomForestClassifier(max_depth= 7)\n",
    "best_rf.fit(x_train, y_train)\n",
    "pd.Series(best_rf.feature_importances_, index = best_rf.feature_names_in_).sort_values(ascending=False).round(4)"
   ]
  }
 ],
 "metadata": {
  "kernelspec": {
   "display_name": "Python 3 (ipykernel)",
   "language": "python",
   "name": "python3"
  },
  "language_info": {
   "codemirror_mode": {
    "name": "ipython",
    "version": 3
   },
   "file_extension": ".py",
   "mimetype": "text/x-python",
   "name": "python",
   "nbconvert_exporter": "python",
   "pygments_lexer": "ipython3",
   "version": "3.9.13"
  }
 },
 "nbformat": 4,
 "nbformat_minor": 5
}
